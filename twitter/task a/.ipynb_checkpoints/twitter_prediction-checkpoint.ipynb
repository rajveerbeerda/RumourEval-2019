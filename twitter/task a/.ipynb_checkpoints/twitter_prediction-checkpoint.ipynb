{
 "cells": [
  {
   "cell_type": "code",
   "execution_count": null,
   "metadata": {},
   "outputs": [],
   "source": [
    "import tensorflow as tf\n",
    "import pandas as pd\n",
    "import numpy as np\n",
    "import json\n",
    "from keras.preprocessing.text import Tokenizer\n",
    "from keras.preprocessing.sequence import pad_sequences\n",
    "from keras.preprocessing.text import Tokenizer\n",
    "from sklearn.model_selection import train_test_split\n",
    "\n",
    "model = tf.keras.models.load_model(\"twitter_lstm_task_a.model\")\n",
    "\n",
    "MAX_NB_WORDS = 200000\n",
    "MAX_SEQUENCE_LENGTH = 1000\n",
    "\n",
    "data_train = pd.read_csv('../twitter_test_dataset.csv')\n",
    "texts = []\n",
    "ids = []\n",
    "for i in range(data_train.text.shape[0]):\n",
    "    texts.append(str(data_train.text[i]))\n",
    "    ids.append(str(data_train.id[i]))\n",
    "\n",
    "tokenizer = Tokenizer(num_words=MAX_NB_WORDS)\n",
    "tokenizer.fit_on_texts(texts)\n",
    "sequences = tokenizer.texts_to_sequences(texts)\n",
    "\n",
    "data = pad_sequences(sequences, maxlen=MAX_SEQUENCE_LENGTH)\n",
    "\n",
    "indices = np.arange(data.shape[0])\n",
    "data = data[indices]\n",
    "x_test = train_test_split(data, test_size = 0.0, random_state=42)\n",
    "\n",
    "predictions = model.predict(x_test)\n",
    "\n",
    "preds = []\n",
    "for i in predictions:\n",
    "    preds.append(np.argmax(i))\n",
    "\n",
    "list_labels = ['support', 'query', 'deny', 'comment']\n",
    "\n",
    "with open(\"final-eval-key.json\") as f:\n",
    "    ans = json.load(f)\n",
    "\n",
    "correct_predictions = 0\n",
    "for i in range(len(ids)):\n",
    "    if preds[i]==list_labels.index(str(ans['subtaskaenglish'][ids[i]])):\n",
    "        correct_predictions+=1\n",
    "\n",
    "print(\"Correct predictions:\", correct_predictions)\n",
    "print(\"Total number of test examples:\", len(ids))\n",
    "print(\"Accuracy of model: \", correct_predictions/float(len(ids)))"
   ]
  },
  {
   "cell_type": "code",
   "execution_count": null,
   "metadata": {},
   "outputs": [],
   "source": []
  }
 ],
 "metadata": {
  "kernelspec": {
   "display_name": "Python 3",
   "language": "python",
   "name": "python3"
  },
  "language_info": {
   "codemirror_mode": {
    "name": "ipython",
    "version": 3
   },
   "file_extension": ".py",
   "mimetype": "text/x-python",
   "name": "python",
   "nbconvert_exporter": "python",
   "pygments_lexer": "ipython3",
   "version": "3.7.3"
  }
 },
 "nbformat": 4,
 "nbformat_minor": 2
}
